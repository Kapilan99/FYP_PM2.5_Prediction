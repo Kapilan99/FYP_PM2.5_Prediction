{
 "cells": [
  {
   "cell_type": "code",
   "execution_count": 1,
   "id": "74a38713-2a8d-4552-b2e1-0e85bd7644fd",
   "metadata": {},
   "outputs": [
    {
     "name": "stdout",
     "output_type": "stream",
     "text": [
      "Processed file saved: D:/7th Semi/Project/dataset/Processed\\Ampara.csv\n",
      "Processed file saved: D:/7th Semi/Project/dataset/Processed\\Anuradhapura.csv\n",
      "Processed file saved: D:/7th Semi/Project/dataset/Processed\\BattaramullaCEA.csv\n",
      "Processed file saved: D:/7th Semi/Project/dataset/Processed\\Batticaloa.csv\n",
      "Processed file saved: D:/7th Semi/Project/dataset/Processed\\Fort.csv\n",
      "Processed file saved: D:/7th Semi/Project/dataset/Processed\\Galle.csv\n",
      "Processed file saved: D:/7th Semi/Project/dataset/Processed\\Hambanthota.csv\n",
      "Processed file saved: D:/7th Semi/Project/dataset/Processed\\Jaffna.csv\n",
      "Processed file saved: D:/7th Semi/Project/dataset/Processed\\Kandy.csv\n",
      "Processed file saved: D:/7th Semi/Project/dataset/Processed\\Kanthale.csv\n",
      "Processed file saved: D:/7th Semi/Project/dataset/Processed\\Katubedda.csv\n",
      "Processed file saved: D:/7th Semi/Project/dataset/Processed\\Kilinochchi.csv\n",
      "Processed file saved: D:/7th Semi/Project/dataset/Processed\\Mannar.csv\n",
      "Processed file saved: D:/7th Semi/Project/dataset/Processed\\Matara.csv\n",
      "Processed file saved: D:/7th Semi/Project/dataset/Processed\\Monaragala.csv\n",
      "Processed file saved: D:/7th Semi/Project/dataset/Processed\\Mullativu.csv\n",
      "Processed file saved: D:/7th Semi/Project/dataset/Processed\\PointPedro.csv\n",
      "Processed file saved: D:/7th Semi/Project/dataset/Processed\\Polonnaruwa.csv\n"
     ]
    }
   ],
   "source": [
    "import pandas as pd\n",
    "import numpy as np\n",
    "import os\n",
    "\n",
    "# Define the folder containing the 18 CSV files\n",
    "folder_path = 'D:/7th Semi/Project/dataset/PM2.5_data_18_station'  # Replace with the actual folder path\n",
    "processed_folder_path = 'D:/7th Semi/Project/dataset/Processed'  # Folder to save processed files\n",
    "\n",
    "# Create the processed folder if it doesn't exist\n",
    "os.makedirs(processed_folder_path, exist_ok=True)\n",
    "\n",
    "# Z-score threshold\n",
    "z_threshold = 3\n",
    "\n",
    "# Process each file in the folder\n",
    "for file_name in os.listdir(folder_path):\n",
    "    if file_name.endswith('.csv'):\n",
    "        file_path = os.path.join(folder_path, file_name)\n",
    "\n",
    "        # Load the dataset\n",
    "        data = pd.read_csv(file_path)\n",
    "\n",
    "        # Assuming the PM2.5 concentration column is labeled as 'PM2.5'\n",
    "        # Replace 'PM2.5' with the actual column name if different\n",
    "        column_name = 'PM2.5 (ug/m3)'\n",
    "        if column_name not in data.columns:\n",
    "            print(f\"Column '{column_name}' not found in {file_name}, skipping.\")\n",
    "            continue\n",
    "\n",
    "        # Calculate the mean and standard deviation of the PM2.5 values\n",
    "        mean_pm25 = data[column_name].mean()\n",
    "        std_pm25 = data[column_name].std()\n",
    "\n",
    "        # Calculate the Z-scores for each value in the PM2.5 column\n",
    "        data['Z-Score'] = (data[column_name] - mean_pm25) / std_pm25\n",
    "\n",
    "        # Identify non-outliers (absolute Z-score <= threshold)\n",
    "        non_outliers = data[np.abs(data['Z-Score']) <= z_threshold]\n",
    "\n",
    "        # Remove the Z-Score column\n",
    "        non_outliers = non_outliers.drop(columns=['Z-Score'])\n",
    "\n",
    "        # Save the processed file with \"_processed\" appended to the original name\n",
    "        processed_file_name = f\"{os.path.splitext(file_name)[0]}.csv\"\n",
    "        processed_file_path = os.path.join(processed_folder_path, processed_file_name)\n",
    "        non_outliers.to_csv(processed_file_path, index=False)\n",
    "\n",
    "        print(f\"Processed file saved: {processed_file_path}\")\n"
   ]
  },
  {
   "cell_type": "code",
   "execution_count": 2,
   "id": "4b9b51f8-91e7-4658-bb3c-3e88f9f1b308",
   "metadata": {},
   "outputs": [
    {
     "name": "stdout",
     "output_type": "stream",
     "text": [
      "Modified dataset saved to Ampara.csv\n"
     ]
    }
   ],
   "source": [
    "import pandas as pd\n",
    "\n",
    "def remove_columns(input_file, output_file, columns_to_remove):\n",
    "    \"\"\"\n",
    "    Removes specified columns from a dataset and saves the modified dataset.\n",
    "    \n",
    "    :param input_file: Path to the input CSV file.\n",
    "    :param output_file: Path to save the modified CSV file.\n",
    "    :param columns_to_remove: List of column names to remove.\n",
    "    \"\"\"\n",
    "    # Load the dataset\n",
    "    df = pd.read_csv(input_file)\n",
    "    \n",
    "    # Remove specified columns\n",
    "    df.drop(columns=columns_to_remove, inplace=True, errors='ignore')\n",
    "    \n",
    "    # Save the modified dataset\n",
    "    df.to_csv(output_file, index=False)\n",
    "    print(f\"Modified dataset saved to {output_file}\")\n",
    "\n",
    "# Example usage\n",
    "input_csv = \"Ampa.csv\"  # Replace with your actual file\n",
    "output_csv = \"Ampara.csv\"\n",
    "columns_to_remove = [\"PM1.0 (ug/m3)\", \"PM4.0 (ug/m3)\", \"PM10.0 (ug/m3)\", \"PM Sensor Status\", \"Device Status\"]  # Replace with actual column names\n",
    "\n",
    "remove_columns(input_csv, output_csv, columns_to_remove)\n"
   ]
  },
  {
   "cell_type": "code",
   "execution_count": 9,
   "id": "aa9a7d20-3d9f-4dea-86eb-d1fbdcd6e699",
   "metadata": {},
   "outputs": [
    {
     "name": "stdout",
     "output_type": "stream",
     "text": [
      "Processed and saved: Preprocess2\\Cleaned_Ampara.csv\n",
      "Processed and saved: Preprocess2\\Cleaned_Anuradhapura.csv\n",
      "Processed and saved: Preprocess2\\Cleaned_BattaramullaCEA.csv\n",
      "Processed and saved: Preprocess2\\Cleaned_Batticaloa.csv\n",
      "Processed and saved: Preprocess2\\Cleaned_Fort.csv\n",
      "Processed and saved: Preprocess2\\Cleaned_Galle.csv\n",
      "Processed and saved: Preprocess2\\Cleaned_Hambanthota.csv\n",
      "Processed and saved: Preprocess2\\Cleaned_Jaffna.csv\n",
      "Processed and saved: Preprocess2\\Cleaned_Kandy.csv\n",
      "Processed and saved: Preprocess2\\Cleaned_Kanthale.csv\n",
      "Processed and saved: Preprocess2\\Cleaned_Katubedda.csv\n",
      "Processed and saved: Preprocess2\\Cleaned_Kilinochchi.csv\n",
      "Processed and saved: Preprocess2\\Cleaned_Mannar.csv\n",
      "Processed and saved: Preprocess2\\Cleaned_Matara.csv\n",
      "Processed and saved: Preprocess2\\Cleaned_Monaragala.csv\n",
      "Processed and saved: Preprocess2\\Cleaned_Mullativu.csv\n",
      "Processed and saved: Preprocess2\\Cleaned_PointPedro.csv\n",
      "Processed and saved: Preprocess2\\Cleaned_Polonnaruwa.csv\n"
     ]
    }
   ],
   "source": [
    "import pandas as pd\n",
    "import numpy as np\n",
    "import matplotlib.pyplot as plt\n",
    "import os\n",
    "\n",
    "def remove_outliers(input_folder, output_folder, pm25_column='PM2.5 (ug/m3)', threshold=3):\n",
    "    \"\"\"\n",
    "    Processes all CSV files in the input folder, removes outliers based on Z-Score,\n",
    "    and saves the cleaned datasets in the output folder.\n",
    "    \n",
    "    :param input_folder: Path to the folder containing input CSV files.\n",
    "    :param output_folder: Path to the folder to save cleaned CSV files.\n",
    "    :param pm25_column: Name of the PM2.5 column.\n",
    "    :param threshold: Z-Score threshold for identifying outliers.\n",
    "    \"\"\"\n",
    "    if not os.path.exists(output_folder):\n",
    "        os.makedirs(output_folder)\n",
    "    \n",
    "    for file in os.listdir(input_folder):\n",
    "        if file.endswith('.csv'):\n",
    "            file_path = os.path.join(input_folder, file)\n",
    "            df = pd.read_csv(file_path, parse_dates=['timestamp_index'], index_col='timestamp_index')\n",
    "            \n",
    "            # Calculate Z-Score\n",
    "            df['Z-Score'] = (df[pm25_column] - df[pm25_column].mean()) / df[pm25_column].std()\n",
    "            \n",
    "            # Identify and remove outliers\n",
    "            df_cleaned = df[~(df['Z-Score'].abs() > threshold)].drop(columns=['Z-Score'])\n",
    "            \n",
    "            # Save cleaned dataset\n",
    "            output_file_path = os.path.join(output_folder, f'Cleaned_{file}')\n",
    "            df_cleaned.to_csv(output_file_path)\n",
    "            print(f\"Processed and saved: {output_file_path}\")\n",
    "\n",
    "# Example usage\n",
    "input_folder = \"Preprocess1\"  # Replace with your input folder path\n",
    "output_folder = \"Preprocess2\"  # Replace with your output folder path\n",
    "remove_outliers(input_folder, output_folder)\n"
   ]
  },
  {
   "cell_type": "code",
   "execution_count": null,
   "id": "0135254e-f1db-4a64-8e7f-9824341abc06",
   "metadata": {},
   "outputs": [],
   "source": []
  },
  {
   "cell_type": "code",
   "execution_count": null,
   "id": "816e5920-04de-48ee-bda0-c066f81d402b",
   "metadata": {},
   "outputs": [],
   "source": []
  }
 ],
 "metadata": {
  "kernelspec": {
   "display_name": "Python 3 (ipykernel)",
   "language": "python",
   "name": "python3"
  },
  "language_info": {
   "codemirror_mode": {
    "name": "ipython",
    "version": 3
   },
   "file_extension": ".py",
   "mimetype": "text/x-python",
   "name": "python",
   "nbconvert_exporter": "python",
   "pygments_lexer": "ipython3",
   "version": "3.12.4"
  }
 },
 "nbformat": 4,
 "nbformat_minor": 5
}
